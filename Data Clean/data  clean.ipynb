{
 "cells": [
  {
   "cell_type": "code",
   "execution_count": 124,
   "metadata": {},
   "outputs": [
    {
     "data": {
      "text/plain": [
       "pn_lftwrk            0\n",
       "pn_lcreq_np          0\n",
       "pn_lcreq_rn          0\n",
       "pn_lcreq_oth         0\n",
       "pn_loc_st_puf        0\n",
       "pn_howlong           0\n",
       "pn_satisfd           0\n",
       "pn_burnout        8714\n",
       "ed_ndtype_puf        0\n",
       "pn_empsit            0\n",
       "pn_wrk               0\n",
       "cv_hospital      15062\n",
       "sex                  0\n",
       "age_gp_puf           0\n",
       "age_puf              0\n",
       "emp_stat             0\n",
       "g_rg20_puf           0\n",
       "g_rg21               0\n",
       "mar_adult            0\n",
       "mar_chld             0\n",
       "race                 0\n",
       "hhincome             0\n",
       "re_rm_gdrel       9349\n",
       "re_rm_sched       9349\n",
       "re_rm_like        9349\n",
       "re_rm_salary      9349\n",
       "dtype: int64"
      ]
     },
     "execution_count": 124,
     "metadata": {},
     "output_type": "execute_result"
    }
   ],
   "source": [
    "import pandas as pd\n",
    "\n",
    "df = pd.read_stata('nssrn_2022_puf.dta') \n",
    "df.head()\n",
    "columns = ['pn_lftwrk', 'pn_lcreq_np', 'pn_lcreq_rn', 'pn_lcreq_oth',\n",
    "            'pn_loc_st_puf', 'pn_howlong', 'pn_satisfd', 'pn_burnout',\n",
    "            'ed_ndtype_puf', 'pn_empsit',\n",
    "            'pn_wrk', 'cv_hospital', 'sex', 'age_gp_puf', 'age_puf',\n",
    "            'emp_stat', 'g_rg20_puf', 'g_rg21', 'mar_adult',\n",
    "            'mar_chld', 'race', 'hhincome', 're_rm_gdrel', 're_rm_sched',\n",
    "            're_rm_like', 're_rm_salary']\n",
    "#'sn_earn_puf', 'sn_hrspw_puf', \n",
    "c = 'RE_RM_SCHED'\n",
    "low = c.lower()\n",
    "low\n",
    "df_ns = df[columns]\n",
    "na = df_ns[~df_ns['pn_lftwrk'].isnull()]\n",
    "na.isnull().sum()\n"
   ]
  },
  {
   "cell_type": "code",
   "execution_count": 125,
   "metadata": {},
   "outputs": [
    {
     "name": "stderr",
     "output_type": "stream",
     "text": [
      "C:\\Users\\jovis\\AppData\\Local\\Temp\\ipykernel_41404\\110717131.py:1: SettingWithCopyWarning: \n",
      "A value is trying to be set on a copy of a slice from a DataFrame.\n",
      "Try using .loc[row_indexer,col_indexer] = value instead\n",
      "\n",
      "See the caveats in the documentation: https://pandas.pydata.org/pandas-docs/stable/user_guide/indexing.html#returning-a-view-versus-a-copy\n",
      "  na['pn_lftwrk'] = na['pn_lftwrk'].astype(int)\n"
     ]
    },
    {
     "data": {
      "text/plain": [
       "0        2\n",
       "1        2\n",
       "2        1\n",
       "4        2\n",
       "5        1\n",
       "        ..\n",
       "49109    2\n",
       "49110    2\n",
       "49111    2\n",
       "49112    2\n",
       "49113    2\n",
       "Name: pn_lftwrk, Length: 41361, dtype: int32"
      ]
     },
     "execution_count": 125,
     "metadata": {},
     "output_type": "execute_result"
    }
   ],
   "source": [
    "# pn_lftwrk = Left Primary Nursing Position\n",
    "# code 0 = No, Code 1 = Yes\n",
    "na['pn_lftwrk'] = na['pn_lftwrk'].astype(int)\n",
    "na['pn_lftwrk']"
   ]
  },
  {
   "cell_type": "code",
   "execution_count": 126,
   "metadata": {},
   "outputs": [
    {
     "data": {
      "text/plain": [
       "32012"
      ]
     },
     "execution_count": 126,
     "metadata": {},
     "output_type": "execute_result"
    }
   ],
   "source": [
    "y = na[na['pn_lftwrk'] == 1]\n",
    "n = na[na['pn_lftwrk'] == 2]\n",
    "len(n)"
   ]
  },
  {
   "cell_type": "code",
   "execution_count": 127,
   "metadata": {},
   "outputs": [],
   "source": [
    "na.loc[:, ['pn_lftwrk']]= [0 if i == 2 else 1 for i in na['pn_lftwrk']]"
   ]
  },
  {
   "cell_type": "code",
   "execution_count": 128,
   "metadata": {},
   "outputs": [
    {
     "name": "stderr",
     "output_type": "stream",
     "text": [
      "C:\\Users\\jovis\\AppData\\Local\\Temp\\ipykernel_41404\\2889149663.py:1: SettingWithCopyWarning: \n",
      "A value is trying to be set on a copy of a slice from a DataFrame.\n",
      "Try using .loc[row_indexer,col_indexer] = value instead\n",
      "\n",
      "See the caveats in the documentation: https://pandas.pydata.org/pandas-docs/stable/user_guide/indexing.html#returning-a-view-versus-a-copy\n",
      "  na['pn_lcreq_np'] = na['pn_lcreq_np'].astype(int)\n"
     ]
    },
    {
     "data": {
      "text/plain": [
       "0        0\n",
       "1        0\n",
       "2        0\n",
       "4        0\n",
       "5        0\n",
       "        ..\n",
       "49109    1\n",
       "49110    1\n",
       "49111    1\n",
       "49112    1\n",
       "49113    1\n",
       "Name: pn_lcreq_np, Length: 41361, dtype: int32"
      ]
     },
     "execution_count": 128,
     "metadata": {},
     "output_type": "execute_result"
    }
   ],
   "source": [
    "#pn_lcreq_np = Licensures and Certifications as Nurse Practitioner\n",
    "# code 1 = Yes, code 0 = N0\n",
    "na['pn_lcreq_np'] = na['pn_lcreq_np'].astype(int)\n",
    "na.loc[:, ['pn_lcreq_np'] ]= [0 if i == 2 else 1 for i in na['pn_lcreq_np']]\n",
    "na['pn_lcreq_np']"
   ]
  },
  {
   "cell_type": "code",
   "execution_count": 130,
   "metadata": {},
   "outputs": [
    {
     "name": "stderr",
     "output_type": "stream",
     "text": [
      "C:\\Users\\jovis\\AppData\\Local\\Temp\\ipykernel_41404\\2800245751.py:1: SettingWithCopyWarning: \n",
      "A value is trying to be set on a copy of a slice from a DataFrame.\n",
      "Try using .loc[row_indexer,col_indexer] = value instead\n",
      "\n",
      "See the caveats in the documentation: https://pandas.pydata.org/pandas-docs/stable/user_guide/indexing.html#returning-a-view-versus-a-copy\n",
      "  na['pn_lcreq_rn'] = na['pn_lcreq_rn'].astype(int)\n",
      "C:\\Users\\jovis\\AppData\\Local\\Temp\\ipykernel_41404\\2800245751.py:3: SettingWithCopyWarning: \n",
      "A value is trying to be set on a copy of a slice from a DataFrame.\n",
      "Try using .loc[row_indexer,col_indexer] = value instead\n",
      "\n",
      "See the caveats in the documentation: https://pandas.pydata.org/pandas-docs/stable/user_guide/indexing.html#returning-a-view-versus-a-copy\n",
      "  na['pn_lcreq_oth'] = na['pn_lcreq_oth'].astype(int)\n"
     ]
    }
   ],
   "source": [
    "#pn_lcreq_np = Licensures and Certifications as a Registered Nurse \n",
    "# code 1 = Yes, code 0 = N0\n",
    "na['pn_lcreq_rn'] = na['pn_lcreq_rn'].astype(int)\n",
    "na.loc[:, ['pn_lcreq_rn'] ]= [0 if i == 2 else 1 for i in na['pn_lcreq_rn']]\n",
    "#pn_lcreq_oth = Other Licensures and Certifications Required \n",
    "# (Nurse Midwife or CNS)\n",
    "# code 1 = Yes, code 0 = N0\n",
    "na['pn_lcreq_oth'] = na['pn_lcreq_oth'].astype(int)\n",
    "na.loc[:, ['pn_lcreq_oth'] ]= [0 if i == 2 else 1 for i in na['pn_lcreq_oth']]\n"
   ]
  },
  {
   "cell_type": "code",
   "execution_count": 132,
   "metadata": {},
   "outputs": [
    {
     "data": {
      "text/plain": [
       "pn_lftwrk          int32\n",
       "pn_lcreq_np        int32\n",
       "pn_lcreq_rn        int32\n",
       "pn_lcreq_oth       int32\n",
       "pn_loc_st_puf     object\n",
       "pn_howlong       float64\n",
       "pn_satisfd       float64\n",
       "pn_burnout       float64\n",
       "ed_ndtype_puf       int8\n",
       "pn_empsit        float64\n",
       "pn_wrk           float64\n",
       "cv_hospital      float64\n",
       "sex                 int8\n",
       "age_gp_puf          int8\n",
       "age_puf             int8\n",
       "emp_stat         float64\n",
       "g_rg20_puf        object\n",
       "g_rg21            object\n",
       "mar_adult           int8\n",
       "mar_chld            int8\n",
       "race                int8\n",
       "hhincome            int8\n",
       "re_rm_gdrel      float64\n",
       "re_rm_sched      float64\n",
       "re_rm_like       float64\n",
       "re_rm_salary     float64\n",
       "dtype: object"
      ]
     },
     "execution_count": 132,
     "metadata": {},
     "output_type": "execute_result"
    }
   ],
   "source": [
    "na.dtypes"
   ]
  }
 ],
 "metadata": {
  "kernelspec": {
   "display_name": "Python 3",
   "language": "python",
   "name": "python3"
  },
  "language_info": {
   "codemirror_mode": {
    "name": "ipython",
    "version": 3
   },
   "file_extension": ".py",
   "mimetype": "text/x-python",
   "name": "python",
   "nbconvert_exporter": "python",
   "pygments_lexer": "ipython3",
   "version": "3.9.10"
  }
 },
 "nbformat": 4,
 "nbformat_minor": 2
}
